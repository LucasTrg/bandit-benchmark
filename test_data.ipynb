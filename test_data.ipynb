{
 "cells": [
  {
   "cell_type": "code",
   "execution_count": 4,
   "metadata": {},
   "outputs": [],
   "source": [
    "import glob\n",
    "from utils import *\n",
    "import tensorflow as tf\n",
    "from utils import *\n",
    "import json"
   ]
  },
  {
   "cell_type": "code",
   "execution_count": 2,
   "metadata": {},
   "outputs": [],
   "source": [
    "mnist = tf.keras.datasets.mnist\n",
    "(x_train, y_train), (x_test, y_test) = mnist.load_data()\n"
   ]
  },
  {
   "cell_type": "code",
   "execution_count": 7,
   "metadata": {},
   "outputs": [
    {
     "name": "stdout",
     "output_type": "stream",
     "text": [
      "Loaded dataset distribution:  {0: [0, 1], 1: [0, 1], 2: [0, 1], 3: [0, 3], 4: [1, 4], 5: [1, 5], 6: [0, 6], 7: [2, 7], 8: [3, 8], 9: [3, 9], 10: [4, 10]}\n",
      "\n",
      "            0,\n",
      "            0,\n",
      "            0, \n",
      "            5923,\n",
      "            0.2,\n",
      "            0\n",
      "\n",
      "            0,\n",
      "            1,\n",
      "            1184, \n",
      "            6742,\n",
      "            0.2,\n",
      "            0\n",
      "\n",
      "            1,\n",
      "            0,\n",
      "            0, \n",
      "            5923,\n",
      "            0.2,\n",
      "            0.2\n",
      "\n",
      "            1,\n",
      "            1,\n",
      "            1185, \n",
      "            6742,\n",
      "            0.2,\n",
      "            0.2\n",
      "\n",
      "            2,\n",
      "            0,\n",
      "            0, \n",
      "            5923,\n",
      "            0.2,\n",
      "            0.4\n",
      "\n",
      "            2,\n",
      "            1,\n",
      "            1184, \n",
      "            6742,\n",
      "            0.2,\n",
      "            0.4\n",
      "\n",
      "            3,\n",
      "            0,\n",
      "            0, \n",
      "            5923,\n",
      "            0.2,\n",
      "            0.6000000000000001\n",
      "\n",
      "            3,\n",
      "            3,\n",
      "            1185, \n",
      "            6131,\n",
      "            0.3333333333333333,\n",
      "            0\n",
      "\n",
      "            4,\n",
      "            1,\n",
      "            0, \n",
      "            6742,\n",
      "            0.2,\n",
      "            0.6000000000000001\n",
      "\n",
      "            4,\n",
      "            4,\n",
      "            1348, \n",
      "            5842,\n",
      "            0.5,\n",
      "            0\n",
      "\n",
      "            5,\n",
      "            1,\n",
      "            0, \n",
      "            6742,\n",
      "            0.2,\n",
      "            0.8\n",
      "\n",
      "            5,\n",
      "            5,\n",
      "            1349, \n",
      "            5421,\n",
      "            1.0,\n",
      "            0\n",
      "\n",
      "            6,\n",
      "            0,\n",
      "            0, \n",
      "            5923,\n",
      "            0.2,\n",
      "            0.8\n",
      "\n",
      "            6,\n",
      "            6,\n",
      "            1185, \n",
      "            5918,\n",
      "            1.0,\n",
      "            0\n",
      "\n",
      "            7,\n",
      "            2,\n",
      "            0, \n",
      "            5958,\n",
      "            1.0,\n",
      "            0\n",
      "\n",
      "            7,\n",
      "            7,\n",
      "            5958, \n",
      "            6265,\n",
      "            1.0,\n",
      "            0\n",
      "\n",
      "            8,\n",
      "            3,\n",
      "            0, \n",
      "            6131,\n",
      "            0.3333333333333333,\n",
      "            0.3333333333333333\n",
      "\n",
      "            8,\n",
      "            8,\n",
      "            2044, \n",
      "            5851,\n",
      "            1.0,\n",
      "            0\n",
      "\n",
      "            9,\n",
      "            3,\n",
      "            0, \n",
      "            6131,\n",
      "            0.3333333333333333,\n",
      "            0.6666666666666666\n",
      "\n",
      "            9,\n",
      "            9,\n",
      "            2044, \n",
      "            5949,\n",
      "            1.0,\n",
      "            0\n"
     ]
    }
   ],
   "source": [
    "with open(\"case_1.json\") as f:\n",
    "    data = json.load(f)\n",
    "    keys = list(data.keys())\n",
    "    for key in keys:\n",
    "        data[int(key)] = data.pop(key)\n",
    "    print(\"Loaded dataset distribution: \", data)\n",
    "    x_train_list, y_train_list, x_test_list, y_test_list = split_datasets_by_label_fixed(x_train, x_test, y_train, y_test, 10, data, False)\n",
    "\n",
    "    x_train_list"
   ]
  },
  {
   "cell_type": "code",
   "execution_count": 32,
   "metadata": {},
   "outputs": [
    {
     "name": "stdout",
     "output_type": "stream",
     "text": [
      "\n",
      "            0,\n",
      "            1,\n",
      "            0, \n",
      "            6742,\n",
      "            0.25,\n",
      "            0\n",
      "\n",
      "            0,\n",
      "            6,\n",
      "            1685, \n",
      "            5918,\n",
      "            0.5,\n",
      "            0\n",
      "\n",
      "            0,\n",
      "            8,\n",
      "            4644, \n",
      "            5851,\n",
      "            0.25,\n",
      "            0\n",
      "\n",
      "            1,\n",
      "            1,\n",
      "            0, \n",
      "            6742,\n",
      "            0.25,\n",
      "            0.25\n",
      "\n",
      "            1,\n",
      "            9,\n",
      "            1686, \n",
      "            5949,\n",
      "            1.0,\n",
      "            0\n",
      "\n",
      "            1,\n",
      "            5,\n",
      "            7635, \n",
      "            5421,\n",
      "            0.2,\n",
      "            0\n",
      "\n",
      "            2,\n",
      "            4,\n",
      "            0, \n",
      "            5842,\n",
      "            0.3333333333333333,\n",
      "            0\n",
      "\n",
      "            2,\n",
      "            8,\n",
      "            1947, \n",
      "            5851,\n",
      "            0.25,\n",
      "            0.25\n",
      "\n",
      "            2,\n",
      "            0,\n",
      "            3410, \n",
      "            5923,\n",
      "            0.3333333333333333,\n",
      "            0\n",
      "\n",
      "            3,\n",
      "            7,\n",
      "            0, \n",
      "            6265,\n",
      "            0.3333333333333333,\n",
      "            0\n",
      "\n",
      "            3,\n",
      "            3,\n",
      "            2088, \n",
      "            6131,\n",
      "            0.3333333333333333,\n",
      "            0\n",
      "\n",
      "            3,\n",
      "            5,\n",
      "            4131, \n",
      "            5421,\n",
      "            0.2,\n",
      "            0.2\n",
      "\n",
      "            4,\n",
      "            4,\n",
      "            0, \n",
      "            5842,\n",
      "            0.3333333333333333,\n",
      "            0.3333333333333333\n",
      "\n",
      "            4,\n",
      "            5,\n",
      "            1947, \n",
      "            5421,\n",
      "            0.2,\n",
      "            0.4\n",
      "\n",
      "            4,\n",
      "            3,\n",
      "            3031, \n",
      "            6131,\n",
      "            0.3333333333333333,\n",
      "            0.3333333333333333\n",
      "\n",
      "            5,\n",
      "            8,\n",
      "            0, \n",
      "            5851,\n",
      "            0.25,\n",
      "            0.5\n",
      "\n",
      "            5,\n",
      "            7,\n",
      "            1463, \n",
      "            6265,\n",
      "            0.3333333333333333,\n",
      "            0.3333333333333333\n",
      "\n",
      "            5,\n",
      "            5,\n",
      "            3551, \n",
      "            5421,\n",
      "            0.2,\n",
      "            0.6000000000000001\n",
      "\n",
      "            6,\n",
      "            0,\n",
      "            0, \n",
      "            5923,\n",
      "            0.3333333333333333,\n",
      "            0.3333333333333333\n",
      "\n",
      "            6,\n",
      "            5,\n",
      "            1974, \n",
      "            5421,\n",
      "            0.2,\n",
      "            0.8\n",
      "\n",
      "            6,\n",
      "            2,\n",
      "            3059, \n",
      "            5958,\n",
      "            0.5,\n",
      "            0\n",
      "\n",
      "            7,\n",
      "            6,\n",
      "            0, \n",
      "            5918,\n",
      "            0.5,\n",
      "            0.5\n",
      "\n",
      "            7,\n",
      "            4,\n",
      "            2959, \n",
      "            5842,\n",
      "            0.3333333333333333,\n",
      "            0.6666666666666666\n",
      "\n",
      "            7,\n",
      "            1,\n",
      "            4907, \n",
      "            6742,\n",
      "            0.25,\n",
      "            0.5\n",
      "\n",
      "            8,\n",
      "            0,\n",
      "            0, \n",
      "            5923,\n",
      "            0.3333333333333333,\n",
      "            0.6666666666666666\n",
      "\n",
      "            8,\n",
      "            7,\n",
      "            1975, \n",
      "            6265,\n",
      "            0.3333333333333333,\n",
      "            0.6666666666666666\n",
      "\n",
      "            8,\n",
      "            2,\n",
      "            4064, \n",
      "            5958,\n",
      "            0.5,\n",
      "            0.5\n",
      "\n",
      "            9,\n",
      "            8,\n",
      "            0, \n",
      "            5851,\n",
      "            0.25,\n",
      "            0.75\n",
      "\n",
      "            9,\n",
      "            3,\n",
      "            1463, \n",
      "            6131,\n",
      "            0.3333333333333333,\n",
      "            0.6666666666666666\n",
      "\n",
      "            9,\n",
      "            1,\n",
      "            3507, \n",
      "            6742,\n",
      "            0.25,\n",
      "            0.75\n"
     ]
    }
   ],
   "source": [
    "\n",
    "x_train_list, y_train_list, x_test_list, y_test_list= split_datasets_by_label(x_train, x_test, y_train, y_test, 10, 3 )"
   ]
  },
  {
   "cell_type": "code",
   "execution_count": 27,
   "metadata": {},
   "outputs": [],
   "source": [
    "x_train_list_2, y_train_list_2, x_test_list_2, y_test_list_2= split_uniform_datasets(x_train, x_test, y_train, y_test, 5)"
   ]
  },
  {
   "cell_type": "code",
   "execution_count": 28,
   "metadata": {},
   "outputs": [
    {
     "name": "stdout",
     "output_type": "stream",
     "text": [
      "10 5\n",
      "10 5\n",
      "4693 12000\n",
      "782 2000\n",
      "<class 'numpy.ndarray'> <class 'numpy.ndarray'>\n"
     ]
    }
   ],
   "source": [
    "print(len(x_train_list), len(x_train_list_2))\n",
    "print(len(x_test_list), len(x_test_list_2))\n",
    "print(len(x_train_list[0]), len(x_train_list_2[0]))\n",
    "print(len(x_test_list[0]), len(x_test_list_2[0]))\n",
    "print(type(x_train_list[0]), type(x_train_list_2[0]))"
   ]
  },
  {
   "cell_type": "code",
   "execution_count": 29,
   "metadata": {},
   "outputs": [
    {
     "ename": "SyntaxError",
     "evalue": "incomplete input (4179271836.py, line 1)",
     "output_type": "error",
     "traceback": [
      "\u001b[0;36m  Cell \u001b[0;32mIn [29], line 1\u001b[0;36m\u001b[0m\n\u001b[0;31m    y_train_list[0][4000:4050\u001b[0m\n\u001b[0m                             ^\u001b[0m\n\u001b[0;31mSyntaxError\u001b[0m\u001b[0;31m:\u001b[0m incomplete input\n"
     ]
    }
   ],
   "source": [
    "y_train_list[0][4000:4050"
   ]
  },
  {
   "cell_type": "code",
   "execution_count": 36,
   "metadata": {},
   "outputs": [
    {
     "name": "stdout",
     "output_type": "stream",
     "text": [
      "(10,)\n",
      "(6106, 28, 28)\n"
     ]
    }
   ],
   "source": [
    "print(x_train_list.shape)\n",
    "print(x_train_list[0].shape)"
   ]
  },
  {
   "cell_type": "code",
   "execution_count": 9,
   "metadata": {},
   "outputs": [
    {
     "name": "stdout",
     "output_type": "stream",
     "text": [
      "20480 10000\n"
     ]
    }
   ],
   "source": [
    "# Compre the size of the subsets generated compared to the original dataset\n",
    "acc = 0\n",
    "for i in range(len(x_test_list)):\n",
    "    acc += len(x_test_list[i])\n",
    "print(acc, len(x_test))"
   ]
  },
  {
   "cell_type": "code",
   "execution_count": 31,
   "metadata": {},
   "outputs": [],
   "source": [
    "import tensorflow as tf"
   ]
  },
  {
   "cell_type": "code",
   "execution_count": 4,
   "metadata": {},
   "outputs": [],
   "source": [
    "cifar = tf.keras.datasets.cifar10\n"
   ]
  },
  {
   "cell_type": "code",
   "execution_count": 18,
   "metadata": {},
   "outputs": [
    {
     "data": {
      "text/plain": [
       "(10000,)"
      ]
     },
     "execution_count": 18,
     "metadata": {},
     "output_type": "execute_result"
    }
   ],
   "source": [
    "cifar.load_data()[1][1].reshape(-1).shape"
   ]
  },
  {
   "cell_type": "code",
   "execution_count": 7,
   "metadata": {},
   "outputs": [],
   "source": [
    "mnist = tf.keras.datasets.mnist\n"
   ]
  },
  {
   "cell_type": "code",
   "execution_count": 13,
   "metadata": {},
   "outputs": [
    {
     "name": "stdout",
     "output_type": "stream",
     "text": [
      "2 2\n"
     ]
    }
   ],
   "source": [
    "print(len(mnist.load_data()), len(cifar.load_data()))"
   ]
  },
  {
   "cell_type": "code",
   "execution_count": 15,
   "metadata": {},
   "outputs": [
    {
     "name": "stdout",
     "output_type": "stream",
     "text": [
      "2 2\n"
     ]
    }
   ],
   "source": [
    "print(len(mnist.load_data()[0][]), len(cifar.load_data()[0]))"
   ]
  },
  {
   "cell_type": "code",
   "execution_count": null,
   "metadata": {},
   "outputs": [],
   "source": []
  }
 ],
 "metadata": {
  "kernelspec": {
   "display_name": "finance-env",
   "language": "python",
   "name": "python3"
  },
  "language_info": {
   "codemirror_mode": {
    "name": "ipython",
    "version": 3
   },
   "file_extension": ".py",
   "mimetype": "text/x-python",
   "name": "python",
   "nbconvert_exporter": "python",
   "pygments_lexer": "ipython3",
   "version": "3.10.6"
  },
  "orig_nbformat": 4
 },
 "nbformat": 4,
 "nbformat_minor": 2
}
